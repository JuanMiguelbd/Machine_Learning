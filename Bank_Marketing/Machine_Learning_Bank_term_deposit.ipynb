{
 "cells": [
  {
   "cell_type": "markdown",
   "metadata": {},
   "source": [
    "# Module 8.  Assignment 1. Machine Learning. Bank_term_deposit dataset library sklearn.\n",
    "\n",
    "This assignment, we have split it into three main parts. First of all, we have clean up and preprocessing the data, analyzed every model individually and after that, we have done a comparative analysis between them. \n",
    "\n",
    "Before we start to analyzed any model of classification we want to do some considerations:\n",
    "\n",
    "For this task, we have paid attention four parameters mainly. Those are Score/accuracy, precision_score, recall_score and failures of model.\n",
    "\n",
    "We'll plot Learning Curve, it'll shows us the validation and training score of an estimator for varying numbers of training samples. We can find out how much we benefit from adding more training data and whether the estimator suffers more from a variance error or a bias error.\n",
    "\n",
    "We'll create a Confusion matrix, this is a specific table layout that allows visualization of the performance of an algorithm. Each colum of the matrix represents the instances in a predicted class while each row represents the instances in an actual class. it makes it easy to see if the system is confusing several classes. it can happen that you can get a good accuracy and however a bad recall or precision, in other words a bad behaviour between some classes because the model is confusing them. The model works good in general but for some classes in particular not.\n",
    "\n",
    "### NOTE:Please, first of all, I recommended you read the analysis about stratified and balanced data before continuing (Task 5).\n",
    "\n",
    "\n",
    "\n"
   ]
  },
  {
   "cell_type": "code",
   "execution_count": 1,
   "metadata": {
    "collapsed": true
   },
   "outputs": [],
   "source": [
    "import numpy as np\n",
    "import pandas as pd\n",
    "import matplotlib.pyplot as plt\n",
    "import seaborn as sns\n",
    "%matplotlib inline\n",
    "\n",
    "from sklearn.model_selection import StratifiedShuffleSplit\n",
    "from sklearn.neighbors import KNeighborsClassifier\n",
    "from sklearn.metrics import accuracy_score\n",
    "from sklearn.metrics import precision_score\n",
    "from sklearn.metrics import recall_score\n",
    "from sklearn.metrics import classification_report\n",
    "from sklearn.model_selection import learning_curve\n",
    "from sklearn.metrics import confusion_matrix\n",
    "from sklearn.model_selection import cross_val_score\n",
    "from sklearn.model_selection import ParameterGrid\n",
    "from sklearn.model_selection import GridSearchCV\n",
    "from sklearn.decomposition import PCA\n",
    "from sklearn.model_selection import LeaveOneOut\n",
    "from sklearn.externals import joblib\n",
    "from sklearn.model_selection import cross_val_predict\n",
    "from sklearn.model_selection import train_test_split\n",
    "from sklearn.svm import SVC\n",
    "from sklearn.model_selection import ShuffleSplit\n",
    "from sklearn.tree import DecisionTreeClassifier\n",
    "\n",
    "# import preprocessing from sklearn\n",
    "from sklearn import preprocessing\n",
    "from sklearn.preprocessing import LabelEncoder\n",
    "from sklearn.pipeline import Pipeline, FeatureUnion\n",
    "from sklearn.base import BaseEstimator, TransformerMixin\n",
    "from sklearn.preprocessing import LabelBinarizer"
   ]
  },
  {
   "cell_type": "markdown",
   "metadata": {},
   "source": [
    "## 1) Describing dataset"
   ]
  },
  {
   "cell_type": "code",
   "execution_count": 2,
   "metadata": {},
   "outputs": [
    {
     "name": "stdout",
     "output_type": "stream",
     "text": [
      "Citation Request:\n",
      "  This dataset is public available for research. The details are described in [Moro et al., 2011]. \n",
      "  Please include this citation if you plan to use this database:\n",
      "\n",
      "  [Moro et al., 2011] S. Moro, R. Laureano and P. Cortez. Using Data Mining for Bank Direct Marketing: An Application of the CRISP-DM Methodology. \n",
      "  In P. Novais et al. (Eds.), Proceedings of the European Simulation and Modelling Conference - ESM'2011, pp. 117-121, GuimarÃ£es, Portugal, October, 2011. EUROSIS.\n",
      "\n",
      "  Available at: [pdf] http://hdl.handle.net/1822/14838\n",
      "                [bib] http://www3.dsi.uminho.pt/pcortez/bib/2011-esm-1.txt\n",
      "\n",
      "1. Title: Bank Marketing\n",
      "\n",
      "2. Sources\n",
      "   Created by: Paulo Cortez (Univ. Minho) and SÃ©rgio Moro (ISCTE-IUL) @ 2012\n",
      "   \n",
      "3. Past Usage:\n",
      "\n",
      "  The full dataset was described and analyzed in:\n",
      "\n",
      "  S. Moro, R. Laureano and P. Cortez. Using Data Mining for Bank Direct Marketing: An Application of the CRISP-DM Methodology. \n",
      "  In P. Novais et al. (Eds.), Proceedings of the European Simulation and Modelling Conference - ESM'2011, pp. 117-121, GuimarÃ£es, \n",
      "  Portugal, October, 2011. EUROSIS.\n",
      "\n",
      "4. Relevant Information:\n",
      "\n",
      "   The data is related with direct marketing campaigns of a Portuguese banking institution. \n",
      "   The marketing campaigns were based on phone calls. Often, more than one contact to the same client was required, \n",
      "   in order to access if the product (bank term deposit) would be (or not) subscribed. \n",
      "\n",
      "   There are two datasets: \n",
      "      1) bank-full.csv with all examples, ordered by date (from May 2008 to November 2010).\n",
      "      2) bank.csv with 10% of the examples (4521), randomly selected from bank-full.csv.\n",
      "   The smallest dataset is provided to test more computationally demanding machine learning algorithms (e.g. SVM).\n",
      "\n",
      "   The classification goal is to predict if the client will subscribe a term deposit (variable y).\n",
      "\n",
      "5. Number of Instances: 45211 for bank-full.csv (4521 for bank.csv)\n",
      "\n",
      "6. Number of Attributes: 16 + output attribute.\n",
      "\n",
      "7. Attribute information:\n",
      "\n",
      "   For more information, read [Moro et al., 2011].\n",
      "\n",
      "   Input variables:\n",
      "   # bank client data:\n",
      "   1 - age (numeric)\n",
      "   2 - job : type of job (categorical: \"admin.\",\"unknown\",\"unemployed\",\"management\",\"housemaid\",\"entrepreneur\",\"student\",\n",
      "                                       \"blue-collar\",\"self-employed\",\"retired\",\"technician\",\"services\") \n",
      "   3 - marital : marital status (categorical: \"married\",\"divorced\",\"single\"; note: \"divorced\" means divorced or widowed)\n",
      "   4 - education (categorical: \"unknown\",\"secondary\",\"primary\",\"tertiary\")\n",
      "   5 - default: has credit in default? (binary: \"yes\",\"no\")\n",
      "   6 - balance: average yearly balance, in euros (numeric) \n",
      "   7 - housing: has housing loan? (binary: \"yes\",\"no\")\n",
      "   8 - loan: has personal loan? (binary: \"yes\",\"no\")\n",
      "   # related with the last contact of the current campaign:\n",
      "   9 - contact: contact communication type (categorical: \"unknown\",\"telephone\",\"cellular\") \n",
      "  10 - day: last contact day of the month (numeric)\n",
      "  11 - month: last contact month of year (categorical: \"jan\", \"feb\", \"mar\", ..., \"nov\", \"dec\")\n",
      "  12 - duration: last contact duration, in seconds (numeric)\n",
      "   # other attributes:\n",
      "  13 - campaign: number of contacts performed during this campaign and for this client (numeric, includes last contact)\n",
      "  14 - pdays: number of days that passed by after the client was last contacted from a previous campaign (numeric, -1 means client was not previously contacted)\n",
      "  15 - previous: number of contacts performed before this campaign and for this client (numeric)\n",
      "  16 - poutcome: outcome of the previous marketing campaign (categorical: \"unknown\",\"other\",\"failure\",\"success\")\n",
      "\n",
      "  Output variable (desired target):\n",
      "  17 - y - has the client subscribed a term deposit? (binary: \"yes\",\"no\")\n",
      "\n",
      "8. Missing Attribute Values: None\n",
      "\n"
     ]
    }
   ],
   "source": [
    "bank_Describe = open(\"C:/DATOS/MASTER BIG DATA/Master Big Data/Modulo 8 Predictive Machine Learning/Task 1/bank/bank-names.txt\")\n",
    "print(bank_Describe.read())"
   ]
  },
  {
   "cell_type": "markdown",
   "metadata": {},
   "source": [
    "## 2) Loading Bank_term_deposit Data\n"
   ]
  },
  {
   "cell_type": "code",
   "execution_count": 3,
   "metadata": {},
   "outputs": [
    {
     "data": {
      "text/html": [
       "<div>\n",
       "<style>\n",
       "    .dataframe thead tr:only-child th {\n",
       "        text-align: right;\n",
       "    }\n",
       "\n",
       "    .dataframe thead th {\n",
       "        text-align: left;\n",
       "    }\n",
       "\n",
       "    .dataframe tbody tr th {\n",
       "        vertical-align: top;\n",
       "    }\n",
       "</style>\n",
       "<table border=\"1\" class=\"dataframe\">\n",
       "  <thead>\n",
       "    <tr style=\"text-align: right;\">\n",
       "      <th></th>\n",
       "      <th>age</th>\n",
       "      <th>job</th>\n",
       "      <th>marital</th>\n",
       "      <th>education</th>\n",
       "      <th>default</th>\n",
       "      <th>balance</th>\n",
       "      <th>housing</th>\n",
       "      <th>loan</th>\n",
       "      <th>contact</th>\n",
       "      <th>day</th>\n",
       "      <th>month</th>\n",
       "      <th>duration</th>\n",
       "      <th>campaign</th>\n",
       "      <th>pdays</th>\n",
       "      <th>previous</th>\n",
       "      <th>poutcome</th>\n",
       "      <th>y</th>\n",
       "    </tr>\n",
       "  </thead>\n",
       "  <tbody>\n",
       "    <tr>\n",
       "      <th>0</th>\n",
       "      <td>30</td>\n",
       "      <td>unemployed</td>\n",
       "      <td>married</td>\n",
       "      <td>primary</td>\n",
       "      <td>no</td>\n",
       "      <td>1787</td>\n",
       "      <td>no</td>\n",
       "      <td>no</td>\n",
       "      <td>cellular</td>\n",
       "      <td>19</td>\n",
       "      <td>oct</td>\n",
       "      <td>79</td>\n",
       "      <td>1</td>\n",
       "      <td>-1</td>\n",
       "      <td>0</td>\n",
       "      <td>unknown</td>\n",
       "      <td>no</td>\n",
       "    </tr>\n",
       "    <tr>\n",
       "      <th>1</th>\n",
       "      <td>33</td>\n",
       "      <td>services</td>\n",
       "      <td>married</td>\n",
       "      <td>secondary</td>\n",
       "      <td>no</td>\n",
       "      <td>4789</td>\n",
       "      <td>yes</td>\n",
       "      <td>yes</td>\n",
       "      <td>cellular</td>\n",
       "      <td>11</td>\n",
       "      <td>may</td>\n",
       "      <td>220</td>\n",
       "      <td>1</td>\n",
       "      <td>339</td>\n",
       "      <td>4</td>\n",
       "      <td>failure</td>\n",
       "      <td>no</td>\n",
       "    </tr>\n",
       "    <tr>\n",
       "      <th>2</th>\n",
       "      <td>35</td>\n",
       "      <td>management</td>\n",
       "      <td>single</td>\n",
       "      <td>tertiary</td>\n",
       "      <td>no</td>\n",
       "      <td>1350</td>\n",
       "      <td>yes</td>\n",
       "      <td>no</td>\n",
       "      <td>cellular</td>\n",
       "      <td>16</td>\n",
       "      <td>apr</td>\n",
       "      <td>185</td>\n",
       "      <td>1</td>\n",
       "      <td>330</td>\n",
       "      <td>1</td>\n",
       "      <td>failure</td>\n",
       "      <td>no</td>\n",
       "    </tr>\n",
       "    <tr>\n",
       "      <th>3</th>\n",
       "      <td>30</td>\n",
       "      <td>management</td>\n",
       "      <td>married</td>\n",
       "      <td>tertiary</td>\n",
       "      <td>no</td>\n",
       "      <td>1476</td>\n",
       "      <td>yes</td>\n",
       "      <td>yes</td>\n",
       "      <td>unknown</td>\n",
       "      <td>3</td>\n",
       "      <td>jun</td>\n",
       "      <td>199</td>\n",
       "      <td>4</td>\n",
       "      <td>-1</td>\n",
       "      <td>0</td>\n",
       "      <td>unknown</td>\n",
       "      <td>no</td>\n",
       "    </tr>\n",
       "    <tr>\n",
       "      <th>4</th>\n",
       "      <td>59</td>\n",
       "      <td>blue-collar</td>\n",
       "      <td>married</td>\n",
       "      <td>secondary</td>\n",
       "      <td>no</td>\n",
       "      <td>0</td>\n",
       "      <td>yes</td>\n",
       "      <td>no</td>\n",
       "      <td>unknown</td>\n",
       "      <td>5</td>\n",
       "      <td>may</td>\n",
       "      <td>226</td>\n",
       "      <td>1</td>\n",
       "      <td>-1</td>\n",
       "      <td>0</td>\n",
       "      <td>unknown</td>\n",
       "      <td>no</td>\n",
       "    </tr>\n",
       "  </tbody>\n",
       "</table>\n",
       "</div>"
      ],
      "text/plain": [
       "   age          job  marital  education default  balance housing loan  \\\n",
       "0   30   unemployed  married    primary      no     1787      no   no   \n",
       "1   33     services  married  secondary      no     4789     yes  yes   \n",
       "2   35   management   single   tertiary      no     1350     yes   no   \n",
       "3   30   management  married   tertiary      no     1476     yes  yes   \n",
       "4   59  blue-collar  married  secondary      no        0     yes   no   \n",
       "\n",
       "    contact  day month  duration  campaign  pdays  previous poutcome   y  \n",
       "0  cellular   19   oct        79         1     -1         0  unknown  no  \n",
       "1  cellular   11   may       220         1    339         4  failure  no  \n",
       "2  cellular   16   apr       185         1    330         1  failure  no  \n",
       "3   unknown    3   jun       199         4     -1         0  unknown  no  \n",
       "4   unknown    5   may       226         1     -1         0  unknown  no  "
      ]
     },
     "execution_count": 3,
     "metadata": {},
     "output_type": "execute_result"
    }
   ],
   "source": [
    "data_bank = pd.read_csv('C:/DATOS/MASTER BIG DATA/Master Big Data/Modulo 8 Predictive Machine Learning/Task 1/bank/bank.csv'\n",
    "                        ,delimiter=';',header=0)\n",
    "data_bank.head()\n",
    "#data_bank.info"
   ]
  },
  {
   "cell_type": "markdown",
   "metadata": {},
   "source": [
    "### Cleaning Dataframe and Manipulating"
   ]
  },
  {
   "cell_type": "code",
   "execution_count": 41,
   "metadata": {},
   "outputs": [
    {
     "data": {
      "text/plain": [
       "(4521, 17)"
      ]
     },
     "execution_count": 41,
     "metadata": {},
     "output_type": "execute_result"
    }
   ],
   "source": [
    "# Shape dataset\n",
    "\n",
    "data_bank.shape"
   ]
  },
  {
   "cell_type": "code",
   "execution_count": 4,
   "metadata": {
    "scrolled": true
   },
   "outputs": [
    {
     "data": {
      "text/plain": [
       "no     4000\n",
       "yes     521\n",
       "Name: y, dtype: int64"
      ]
     },
     "execution_count": 4,
     "metadata": {},
     "output_type": "execute_result"
    }
   ],
   "source": [
    "# We see amount classes. (bynary class)\n",
    "bank_Labels = data_bank.y.value_counts()\n",
    "bank_Labels"
   ]
  },
  {
   "cell_type": "markdown",
   "metadata": {},
   "source": [
    "#### Don't have no-null items."
   ]
  },
  {
   "cell_type": "code",
   "execution_count": 39,
   "metadata": {
    "scrolled": false
   },
   "outputs": [
    {
     "name": "stdout",
     "output_type": "stream",
     "text": [
      "<class 'pandas.core.frame.DataFrame'>\n",
      "RangeIndex: 4521 entries, 0 to 4520\n",
      "Data columns (total 17 columns):\n",
      "age          4521 non-null int64\n",
      "job          4521 non-null object\n",
      "marital      4521 non-null object\n",
      "education    4521 non-null object\n",
      "default      4521 non-null object\n",
      "balance      4521 non-null int64\n",
      "housing      4521 non-null object\n",
      "loan         4521 non-null object\n",
      "contact      4521 non-null object\n",
      "day          4521 non-null int64\n",
      "month        4521 non-null object\n",
      "duration     4521 non-null int64\n",
      "campaign     4521 non-null int64\n",
      "pdays        4521 non-null int64\n",
      "previous     4521 non-null int64\n",
      "poutcome     4521 non-null object\n",
      "y            4521 non-null object\n",
      "dtypes: int64(7), object(10)\n",
      "memory usage: 600.5+ KB\n"
     ]
    }
   ],
   "source": [
    "data_bank.info()"
   ]
  },
  {
   "cell_type": "markdown",
   "metadata": {},
   "source": [
    "### Handling Categories Data\n",
    "\n",
    "Many machine learning algorithms cannot work with categorical data directly. The categories must be converted into numbers. This is required for both input and output variables that are categorical.\n",
    "\n",
    "We could use an integer encoding directly, rescaled where needed. This may work for problems where there is a natural ordinal relationship between the categories, and in turn the integer values, such as labels for temperature ‘cold’, warm’, and ‘hot’.\n",
    "\n",
    "There may be problems when there is no ordinal relationship and allowing the representation to lean on any such relationship might be damaging to learning to solve the problem. An example might be the labels ‘dog’ and ‘cat’\n",
    "\n",
    "In these cases, we would like to give the network more expressive power to learn a probability-like number for each possible label value. This can help in both making the problem easier for the network to model. When a one hot encoding is used for the output variable, it may offer a more nuanced set of predictions than a single label.\n",
    "\n",
    "This encoding is needed for feeding categorical data to many scikit-learn estimators, notably linear models and SVMs with the standard kernels."
   ]
  },
  {
   "cell_type": "code",
   "execution_count": 6,
   "metadata": {},
   "outputs": [
    {
     "data": {
      "text/html": [
       "<div>\n",
       "<style>\n",
       "    .dataframe thead tr:only-child th {\n",
       "        text-align: right;\n",
       "    }\n",
       "\n",
       "    .dataframe thead th {\n",
       "        text-align: left;\n",
       "    }\n",
       "\n",
       "    .dataframe tbody tr th {\n",
       "        vertical-align: top;\n",
       "    }\n",
       "</style>\n",
       "<table border=\"1\" class=\"dataframe\">\n",
       "  <thead>\n",
       "    <tr style=\"text-align: right;\">\n",
       "      <th></th>\n",
       "      <th>age</th>\n",
       "      <th>balance</th>\n",
       "      <th>day</th>\n",
       "      <th>duration</th>\n",
       "      <th>campaign</th>\n",
       "      <th>pdays</th>\n",
       "      <th>previous</th>\n",
       "    </tr>\n",
       "  </thead>\n",
       "  <tbody>\n",
       "    <tr>\n",
       "      <th>0</th>\n",
       "      <td>30</td>\n",
       "      <td>1787</td>\n",
       "      <td>19</td>\n",
       "      <td>79</td>\n",
       "      <td>1</td>\n",
       "      <td>-1</td>\n",
       "      <td>0</td>\n",
       "    </tr>\n",
       "    <tr>\n",
       "      <th>1</th>\n",
       "      <td>33</td>\n",
       "      <td>4789</td>\n",
       "      <td>11</td>\n",
       "      <td>220</td>\n",
       "      <td>1</td>\n",
       "      <td>339</td>\n",
       "      <td>4</td>\n",
       "    </tr>\n",
       "    <tr>\n",
       "      <th>2</th>\n",
       "      <td>35</td>\n",
       "      <td>1350</td>\n",
       "      <td>16</td>\n",
       "      <td>185</td>\n",
       "      <td>1</td>\n",
       "      <td>330</td>\n",
       "      <td>1</td>\n",
       "    </tr>\n",
       "  </tbody>\n",
       "</table>\n",
       "</div>"
      ],
      "text/plain": [
       "   age  balance  day  duration  campaign  pdays  previous\n",
       "0   30     1787   19        79         1     -1         0\n",
       "1   33     4789   11       220         1    339         4\n",
       "2   35     1350   16       185         1    330         1"
      ]
     },
     "execution_count": 6,
     "metadata": {},
     "output_type": "execute_result"
    }
   ],
   "source": [
    "# We are going to see the numerical data using df.select_dtypes()\n",
    "#df.select_dtypes(include=['float64'])\n",
    "\n",
    "data_bank_num = data_bank.select_dtypes(include=['int64'])\n",
    "data_bank_num.head(3)"
   ]
  },
  {
   "cell_type": "code",
   "execution_count": 7,
   "metadata": {},
   "outputs": [
    {
     "data": {
      "text/html": [
       "<div>\n",
       "<style>\n",
       "    .dataframe thead tr:only-child th {\n",
       "        text-align: right;\n",
       "    }\n",
       "\n",
       "    .dataframe thead th {\n",
       "        text-align: left;\n",
       "    }\n",
       "\n",
       "    .dataframe tbody tr th {\n",
       "        vertical-align: top;\n",
       "    }\n",
       "</style>\n",
       "<table border=\"1\" class=\"dataframe\">\n",
       "  <thead>\n",
       "    <tr style=\"text-align: right;\">\n",
       "      <th></th>\n",
       "      <th>job</th>\n",
       "      <th>marital</th>\n",
       "      <th>education</th>\n",
       "      <th>default</th>\n",
       "      <th>housing</th>\n",
       "      <th>loan</th>\n",
       "      <th>contact</th>\n",
       "      <th>month</th>\n",
       "      <th>poutcome</th>\n",
       "      <th>y</th>\n",
       "    </tr>\n",
       "  </thead>\n",
       "  <tbody>\n",
       "    <tr>\n",
       "      <th>0</th>\n",
       "      <td>unemployed</td>\n",
       "      <td>married</td>\n",
       "      <td>primary</td>\n",
       "      <td>no</td>\n",
       "      <td>no</td>\n",
       "      <td>no</td>\n",
       "      <td>cellular</td>\n",
       "      <td>oct</td>\n",
       "      <td>unknown</td>\n",
       "      <td>no</td>\n",
       "    </tr>\n",
       "    <tr>\n",
       "      <th>1</th>\n",
       "      <td>services</td>\n",
       "      <td>married</td>\n",
       "      <td>secondary</td>\n",
       "      <td>no</td>\n",
       "      <td>yes</td>\n",
       "      <td>yes</td>\n",
       "      <td>cellular</td>\n",
       "      <td>may</td>\n",
       "      <td>failure</td>\n",
       "      <td>no</td>\n",
       "    </tr>\n",
       "    <tr>\n",
       "      <th>2</th>\n",
       "      <td>management</td>\n",
       "      <td>single</td>\n",
       "      <td>tertiary</td>\n",
       "      <td>no</td>\n",
       "      <td>yes</td>\n",
       "      <td>no</td>\n",
       "      <td>cellular</td>\n",
       "      <td>apr</td>\n",
       "      <td>failure</td>\n",
       "      <td>no</td>\n",
       "    </tr>\n",
       "  </tbody>\n",
       "</table>\n",
       "</div>"
      ],
      "text/plain": [
       "          job  marital  education default housing loan   contact month  \\\n",
       "0  unemployed  married    primary      no      no   no  cellular   oct   \n",
       "1    services  married  secondary      no     yes  yes  cellular   may   \n",
       "2  management   single   tertiary      no     yes   no  cellular   apr   \n",
       "\n",
       "  poutcome   y  \n",
       "0  unknown  no  \n",
       "1  failure  no  \n",
       "2  failure  no  "
      ]
     },
     "execution_count": 7,
     "metadata": {},
     "output_type": "execute_result"
    }
   ],
   "source": [
    "# We are going to see the categorical data using df.select_dtypes()\n",
    "data_bank_object = data_bank.select_dtypes(include=[object])\n",
    "data_bank_object.head(3)"
   ]
  },
  {
   "cell_type": "code",
   "execution_count": 8,
   "metadata": {},
   "outputs": [
    {
     "data": {
      "text/html": [
       "<div>\n",
       "<style>\n",
       "    .dataframe thead tr:only-child th {\n",
       "        text-align: right;\n",
       "    }\n",
       "\n",
       "    .dataframe thead th {\n",
       "        text-align: left;\n",
       "    }\n",
       "\n",
       "    .dataframe tbody tr th {\n",
       "        vertical-align: top;\n",
       "    }\n",
       "</style>\n",
       "<table border=\"1\" class=\"dataframe\">\n",
       "  <thead>\n",
       "    <tr style=\"text-align: right;\">\n",
       "      <th></th>\n",
       "      <th>age</th>\n",
       "      <th>balance</th>\n",
       "      <th>day</th>\n",
       "      <th>duration</th>\n",
       "      <th>campaign</th>\n",
       "      <th>pdays</th>\n",
       "      <th>previous</th>\n",
       "      <th>job_admin.</th>\n",
       "      <th>job_blue-collar</th>\n",
       "      <th>job_entrepreneur</th>\n",
       "      <th>...</th>\n",
       "      <th>month_jun</th>\n",
       "      <th>month_mar</th>\n",
       "      <th>month_may</th>\n",
       "      <th>month_nov</th>\n",
       "      <th>month_oct</th>\n",
       "      <th>month_sep</th>\n",
       "      <th>poutcome_failure</th>\n",
       "      <th>poutcome_other</th>\n",
       "      <th>poutcome_success</th>\n",
       "      <th>poutcome_unknown</th>\n",
       "    </tr>\n",
       "  </thead>\n",
       "  <tbody>\n",
       "    <tr>\n",
       "      <th>0</th>\n",
       "      <td>30</td>\n",
       "      <td>1787</td>\n",
       "      <td>19</td>\n",
       "      <td>79</td>\n",
       "      <td>1</td>\n",
       "      <td>-1</td>\n",
       "      <td>0</td>\n",
       "      <td>0</td>\n",
       "      <td>0</td>\n",
       "      <td>0</td>\n",
       "      <td>...</td>\n",
       "      <td>0</td>\n",
       "      <td>0</td>\n",
       "      <td>0</td>\n",
       "      <td>0</td>\n",
       "      <td>1</td>\n",
       "      <td>0</td>\n",
       "      <td>0</td>\n",
       "      <td>0</td>\n",
       "      <td>0</td>\n",
       "      <td>1</td>\n",
       "    </tr>\n",
       "    <tr>\n",
       "      <th>1</th>\n",
       "      <td>33</td>\n",
       "      <td>4789</td>\n",
       "      <td>11</td>\n",
       "      <td>220</td>\n",
       "      <td>1</td>\n",
       "      <td>339</td>\n",
       "      <td>4</td>\n",
       "      <td>0</td>\n",
       "      <td>0</td>\n",
       "      <td>0</td>\n",
       "      <td>...</td>\n",
       "      <td>0</td>\n",
       "      <td>0</td>\n",
       "      <td>1</td>\n",
       "      <td>0</td>\n",
       "      <td>0</td>\n",
       "      <td>0</td>\n",
       "      <td>1</td>\n",
       "      <td>0</td>\n",
       "      <td>0</td>\n",
       "      <td>0</td>\n",
       "    </tr>\n",
       "    <tr>\n",
       "      <th>2</th>\n",
       "      <td>35</td>\n",
       "      <td>1350</td>\n",
       "      <td>16</td>\n",
       "      <td>185</td>\n",
       "      <td>1</td>\n",
       "      <td>330</td>\n",
       "      <td>1</td>\n",
       "      <td>0</td>\n",
       "      <td>0</td>\n",
       "      <td>0</td>\n",
       "      <td>...</td>\n",
       "      <td>0</td>\n",
       "      <td>0</td>\n",
       "      <td>0</td>\n",
       "      <td>0</td>\n",
       "      <td>0</td>\n",
       "      <td>0</td>\n",
       "      <td>1</td>\n",
       "      <td>0</td>\n",
       "      <td>0</td>\n",
       "      <td>0</td>\n",
       "    </tr>\n",
       "    <tr>\n",
       "      <th>3</th>\n",
       "      <td>30</td>\n",
       "      <td>1476</td>\n",
       "      <td>3</td>\n",
       "      <td>199</td>\n",
       "      <td>4</td>\n",
       "      <td>-1</td>\n",
       "      <td>0</td>\n",
       "      <td>0</td>\n",
       "      <td>0</td>\n",
       "      <td>0</td>\n",
       "      <td>...</td>\n",
       "      <td>1</td>\n",
       "      <td>0</td>\n",
       "      <td>0</td>\n",
       "      <td>0</td>\n",
       "      <td>0</td>\n",
       "      <td>0</td>\n",
       "      <td>0</td>\n",
       "      <td>0</td>\n",
       "      <td>0</td>\n",
       "      <td>1</td>\n",
       "    </tr>\n",
       "    <tr>\n",
       "      <th>4</th>\n",
       "      <td>59</td>\n",
       "      <td>0</td>\n",
       "      <td>5</td>\n",
       "      <td>226</td>\n",
       "      <td>1</td>\n",
       "      <td>-1</td>\n",
       "      <td>0</td>\n",
       "      <td>0</td>\n",
       "      <td>1</td>\n",
       "      <td>0</td>\n",
       "      <td>...</td>\n",
       "      <td>0</td>\n",
       "      <td>0</td>\n",
       "      <td>1</td>\n",
       "      <td>0</td>\n",
       "      <td>0</td>\n",
       "      <td>0</td>\n",
       "      <td>0</td>\n",
       "      <td>0</td>\n",
       "      <td>0</td>\n",
       "      <td>1</td>\n",
       "    </tr>\n",
       "  </tbody>\n",
       "</table>\n",
       "<p>5 rows × 51 columns</p>\n",
       "</div>"
      ],
      "text/plain": [
       "   age  balance  day  duration  campaign  pdays  previous  job_admin.  \\\n",
       "0   30     1787   19        79         1     -1         0           0   \n",
       "1   33     4789   11       220         1    339         4           0   \n",
       "2   35     1350   16       185         1    330         1           0   \n",
       "3   30     1476    3       199         4     -1         0           0   \n",
       "4   59        0    5       226         1     -1         0           0   \n",
       "\n",
       "   job_blue-collar  job_entrepreneur        ...         month_jun  month_mar  \\\n",
       "0                0                 0        ...                 0          0   \n",
       "1                0                 0        ...                 0          0   \n",
       "2                0                 0        ...                 0          0   \n",
       "3                0                 0        ...                 1          0   \n",
       "4                1                 0        ...                 0          0   \n",
       "\n",
       "   month_may  month_nov  month_oct  month_sep  poutcome_failure  \\\n",
       "0          0          0          1          0                 0   \n",
       "1          1          0          0          0                 1   \n",
       "2          0          0          0          0                 1   \n",
       "3          0          0          0          0                 0   \n",
       "4          1          0          0          0                 0   \n",
       "\n",
       "   poutcome_other  poutcome_success  poutcome_unknown  \n",
       "0               0                 0                 1  \n",
       "1               0                 0                 0  \n",
       "2               0                 0                 0  \n",
       "3               0                 0                 1  \n",
       "4               0                 0                 1  \n",
       "\n",
       "[5 rows x 51 columns]"
      ]
     },
     "execution_count": 8,
     "metadata": {},
     "output_type": "execute_result"
    }
   ],
   "source": [
    "# Now, we are goint to convert categories string colums to arrays numbers.\n",
    "\n",
    "data_Bank_categories = data_bank.drop(['y'], axis=1)\n",
    "data_Bank_X = pd.get_dummies(data_Bank_categories, columns=['job','marital','education','default','housing','loan','contact','month','poutcome'])\n",
    "data_Bank_X.head()"
   ]
  },
  {
   "cell_type": "code",
   "execution_count": 9,
   "metadata": {},
   "outputs": [
    {
     "data": {
      "text/html": [
       "<div>\n",
       "<style>\n",
       "    .dataframe thead tr:only-child th {\n",
       "        text-align: right;\n",
       "    }\n",
       "\n",
       "    .dataframe thead th {\n",
       "        text-align: left;\n",
       "    }\n",
       "\n",
       "    .dataframe tbody tr th {\n",
       "        vertical-align: top;\n",
       "    }\n",
       "</style>\n",
       "<table border=\"1\" class=\"dataframe\">\n",
       "  <thead>\n",
       "    <tr style=\"text-align: right;\">\n",
       "      <th></th>\n",
       "      <th>y</th>\n",
       "    </tr>\n",
       "  </thead>\n",
       "  <tbody>\n",
       "    <tr>\n",
       "      <th>0</th>\n",
       "      <td>0</td>\n",
       "    </tr>\n",
       "    <tr>\n",
       "      <th>1</th>\n",
       "      <td>0</td>\n",
       "    </tr>\n",
       "    <tr>\n",
       "      <th>2</th>\n",
       "      <td>0</td>\n",
       "    </tr>\n",
       "    <tr>\n",
       "      <th>3</th>\n",
       "      <td>0</td>\n",
       "    </tr>\n",
       "    <tr>\n",
       "      <th>4</th>\n",
       "      <td>0</td>\n",
       "    </tr>\n",
       "  </tbody>\n",
       "</table>\n",
       "</div>"
      ],
      "text/plain": [
       "   y\n",
       "0  0\n",
       "1  0\n",
       "2  0\n",
       "3  0\n",
       "4  0"
      ]
     },
     "execution_count": 9,
     "metadata": {},
     "output_type": "execute_result"
    }
   ],
   "source": [
    "# We create a LabelEncoder object and fit it to label Y\n",
    "\n",
    "label=data_bank[['y']]\n",
    "# 1. INSTANTIATE\n",
    "# encode labels with value between 0 and n_classes-1.\n",
    "ple = preprocessing.LabelEncoder()\n",
    "\n",
    "\n",
    "# 2/3. FIT AND TRANSFORM\n",
    "# use df.apply() to apply le.fit_transform to all columns\n",
    "data_Bank_Label_Y = label.apply(ple.fit_transform)\n",
    "data_Bank_Label_Y.head()\n"
   ]
  },
  {
   "cell_type": "code",
   "execution_count": 10,
   "metadata": {},
   "outputs": [
    {
     "name": "stdout",
     "output_type": "stream",
     "text": [
      "['no' 'yes']\n"
     ]
    }
   ],
   "source": [
    "# how is 'label' mapped?\n",
    "\n",
    "print(ple.classes_)"
   ]
  },
  {
   "cell_type": "code",
   "execution_count": 11,
   "metadata": {
    "collapsed": true
   },
   "outputs": [],
   "source": [
    "# Now, We create datasets to traint it.\n",
    "\n",
    "X=data_Bank_X.values\n",
    "y=np.ravel(data_Bank_Label_Y.values)\n"
   ]
  },
  {
   "cell_type": "markdown",
   "metadata": {},
   "source": [
    "# 3) Estimators seen in class"
   ]
  },
  {
   "cell_type": "markdown",
   "metadata": {
    "collapsed": true
   },
   "source": [
    "## Using KNeighborsClassifier Estimator with StratifiedShuffleSplit\n",
    "\n",
    "This cross-validation object is a merge of StratifiedKFold and ShuffleSplit, which returns stratified randomized folds.\n",
    "The folds are made by preserving the percentage of samples for each class. Contrary to other cross-validation strategies, random splits do not guarantee that all folds will be different, although this is still very likely for sizeable datasets. \n",
    "\n",
    "The classifier estimator chosen is the most simple of all, this classifier implementing the k-nearest neighbors vote. This is called KNeighborsClassifier.\n"
   ]
  },
  {
   "cell_type": "code",
   "execution_count": 12,
   "metadata": {},
   "outputs": [
    {
     "name": "stdout",
     "output_type": "stream",
     "text": [
      "score_train:  0.92414664981\n",
      "score_test:  0.865143699337\n",
      "Accuracy_score: 0.865143699337 \n",
      "\n",
      "Num. medio de errores de: 13.2645541636\n",
      "Dev. Std. de errores de: 0.216943278465\n",
      "Failures:  [181, 176, 183] \n",
      "\n",
      "Bank_term_deposittratified instance:  StratifiedShuffleSplit(n_splits=3, random_state=124, test_size=0.3,\n",
      "            train_size=None) \n",
      "\n",
      "n_splits:  3 \n",
      "\n"
     ]
    }
   ],
   "source": [
    "X=data_Bank_X.values\n",
    "y=np.ravel(data_Bank_Label_Y.values)\n",
    "\n",
    "Failures = []\n",
    "\n",
    "# We create both instances.\n",
    "\n",
    "Bank_term_deposittratified = StratifiedShuffleSplit(n_splits=3, test_size=0.3, random_state=124)\n",
    "\n",
    "EstimatorKNN = KNeighborsClassifier(n_neighbors=3)\n",
    "\n",
    "# We applicated split method.\n",
    "\n",
    "for train_index, test_index in Bank_term_deposittratified.split(X, y):\n",
    "       \n",
    "        X_train, X_test = X[train_index], X[test_index]\n",
    "        y_train, y_test = y[train_index], y[test_index]    \n",
    "\n",
    "        # Now, we have dataset prepared to fit and predict it. For this, we used fit and predict methods.\n",
    "        EstimatorKNN.fit(X_train, y_train)\n",
    "        Y_prediction =EstimatorKNN.predict(X_test)\n",
    "\n",
    "        # We calculate number of failures.\n",
    "        Failures.append(sum(Y_prediction != y_test))\n",
    "\n",
    "\n",
    "# Afterthat, We calculate The score.\n",
    "\n",
    "score_test = EstimatorKNN.score(X_test,y_test)\n",
    "score_train = EstimatorKNN.score(X_train,y_train)\n",
    "\n",
    "print('score_train: ', score_train)\n",
    "print('score_test: ', score_test)\n",
    "\n",
    "# We could also use metric function.\n",
    "\n",
    "accs = accuracy_score (Y_prediction, y_test)\n",
    "\n",
    "print(\"Accuracy_score:\" , accs,'\\n')\n",
    "\n",
    "# Finally, we show several results such as:\n",
    "\n",
    "print(\"Num. medio de errores de: \"  + str(100*np.mean(Failures)/len(y_test)))    \n",
    "print(\"Dev. Std. de errores de: \" + str(100*np.std(Failures)/len(y_test))) \n",
    "print(\"Failures: \",Failures,'\\n')\n",
    "print(\"Bank_term_deposittratified instance: \", Bank_term_deposittratified, '\\n')    \n",
    "print(\"n_splits: \",Bank_term_deposittratified.get_n_splits(X,y), '\\n')"
   ]
  },
  {
   "cell_type": "markdown",
   "metadata": {},
   "source": [
    "##  Learning Curves KNeighborsClassifier Estimator with StratifiedShuffleSplit\n",
    "\n",
    "Now, we are going to analyze the model above with Graphing Learning Curves. It shows us the validation and training score of an estimator for varying numbers of training samples. We can find out how much we benefit from adding more training data and whether the estimator suffers more from a variance error or a bias error.\n"
   ]
  },
  {
   "cell_type": "code",
   "execution_count": 13,
   "metadata": {},
   "outputs": [
    {
     "data": {
      "image/png": "[encoded data removed]",
      "text/plain": [
       "<matplotlib.figure.Figure at 0x25bee354da0>"
      ]
     },
     "metadata": {},
     "output_type": "display_data"
    },
    {
     "name": "stdout",
     "output_type": "stream",
     "text": [
      "Training samples:  [  15   50  250  500 1000 1500 2000 2500 3000 3500]\n",
      "Training_Scores:  [ 0.90666667  0.928       0.9184      0.922       0.9224      0.91933333\n",
      "  0.9205      0.92088     0.92093333  0.92114286]\n",
      "Validation_scores:  [ 0.87348922  0.8759204   0.86971838  0.86595756  0.87082433  0.87038112\n",
      "  0.86861047  0.86706449  0.86662274  0.86706327]\n"
     ]
    }
   ],
   "source": [
    "EstimatorKNN = KNeighborsClassifier(n_neighbors=3)\n",
    "\n",
    "train_sizes ,  train_scores ,  valid_scores  =  learning_curve (\n",
    "    EstimatorKNN,  X ,  y , shuffle = True, random_state = 42,  \n",
    "        train_sizes = [15,50,250,500,1000,1500,2000,2500,3000,3500],  cv = 5) \n",
    "\n",
    "train_mean = np.mean(train_scores, axis=1)\n",
    "train_std = np.std(train_scores, axis=1)\n",
    "valid_mean_SSS = np.mean(valid_scores, axis=1)\n",
    "valid_std_SSS = np.std(valid_scores, axis=1)\n",
    "\n",
    "plt.plot(train_sizes, train_mean, color='r', marker='o', markersize=5,\n",
    "         label='Training Score')\n",
    "plt.fill_between(train_sizes, train_mean + train_std, \n",
    "                 train_mean - train_std, alpha=0.15, color='r')\n",
    "plt.plot(train_sizes, valid_mean_SSS, color='b', linestyle='--', \n",
    "         marker='s', markersize=5, label='Validation_scores')\n",
    "plt.fill_between(train_sizes, valid_mean_SSS + valid_std_SSS, \n",
    "                 valid_mean_SSS - valid_std_SSS, alpha=0.15, color='b')\n",
    "\n",
    "plt.title('Learning Curves')\n",
    "plt.legend(loc='lower right')\n",
    "plt.xlabel('Training samples')\n",
    "plt.ylabel('Score')\n",
    "plt.grid()\n",
    "plt.show()\n",
    "\n",
    "print('Training samples: ' ,train_sizes)\n",
    "print('Training_Scores: ',train_mean)\n",
    "print('Validation_scores: ',valid_mean_SSS)"
   ]
  },
  {
   "cell_type": "markdown",
   "metadata": {},
   "source": [
    "In this graph, we can see that adding more samples don't help to get a high score. We must try to add new attributes or we try another algorithm."
   ]
  },
  {
   "cell_type": "code",
   "execution_count": 14,
   "metadata": {},
   "outputs": [
    {
     "name": "stdout",
     "output_type": "stream",
     "text": [
      "precision_score:  0.865143699337\n",
      "recall_score:  0.865143699337\n"
     ]
    }
   ],
   "source": [
    "# Other types of metrics score: \n",
    "# Note: average = 'micro' Calculate metrics globally by counting the total true positives, false negatives and false positives.\n",
    "\n",
    "print('precision_score: ', precision_score(y_test, Y_prediction, average='micro'))\n",
    "print('recall_score: ', recall_score(y_test, Y_prediction, average='micro'))"
   ]
  },
  {
   "cell_type": "markdown",
   "metadata": {},
   "source": [
    "#### About Metrics score above:\n",
    "\n",
    "Precision_score: The precision is the ratio tp / (tp + fp) where tp is the number of true positives and fp the number of false positives. The precision is intuitively the ability of the classifier not to label as positive a sample that is negative.\n",
    "\n",
    "Recall_score: The recall is the ratio tp / (tp + fn) where tp is the number of true positives and fn the number of false negatives. The recall is intuitively the ability of the classifier to find all the positive samples."
   ]
  },
  {
   "cell_type": "markdown",
   "metadata": {
    "collapsed": true
   },
   "source": [
    "## Using KNeighborsClassifier Estimator with cross_val_score\n",
    "\n",
    "By partitioning the available data into three sets, we drastically reduce the number of samples which can be used for learning the model, and the results can depend on a particular random choice for the pair of (train, validation) sets. A solution to this problem is a procedure called cross-validation (CV for short). A test set should still be held out for final evaluation, but the validation set is no longer needed when doing CV."
   ]
  },
  {
   "cell_type": "code",
   "execution_count": 15,
   "metadata": {},
   "outputs": [
    {
     "name": "stdout",
     "output_type": "stream",
     "text": [
      "cv scores:  [ 0.8785872   0.87389381  0.86061947  0.87610619  0.87389381  0.88938053\n",
      "  0.88053097  0.87610619  0.86061947  0.86283186]\n",
      "Mean:  0.873256949735\n",
      "Std:  0.00886811565891\n",
      "nº cv:  10\n"
     ]
    }
   ],
   "source": [
    "X=data_Bank_X.values\n",
    "y=np.ravel(data_Bank_Label_Y.values)\n",
    "\n",
    "# Classifier implementing the k-nearest neighbors vote and evaluate a score by cross-validation. You can see that we introduce\n",
    "# the estimatorKNN as a parameter into cross-validation instance.\n",
    "\n",
    "EstimatorKNN = KNeighborsClassifier()\n",
    "CVS_EstimatorKNN= cross_val_score(EstimatorKNN,X,y,cv=10)\n",
    "\n",
    "# Printing the results:\n",
    "\n",
    "print('cv scores: ', CVS_EstimatorKNN)\n",
    "\n",
    "# Now, we calculate the mean of cv scores, and this will be our outcome:\n",
    "\n",
    "print('Mean: ',np.mean(CVS_EstimatorKNN)) \n",
    "print('Std: ',np.std(CVS_EstimatorKNN)) \n",
    "print('nº cv: ',CVS_EstimatorKNN.size)\n",
    "\n"
   ]
  },
  {
   "cell_type": "markdown",
   "metadata": {},
   "source": [
    "## Graphic adjustment by K-neighbors\n",
    "\n",
    "Graphic adjustment of K-neighbors. We use this graph to see where KNeighborsClassifier works better for a give number of n_neighbors.\n"
   ]
  },
  {
   "cell_type": "code",
   "execution_count": 16,
   "metadata": {},
   "outputs": [
    {
     "data": {
      "image/png": "[encoded data removed]",
      "text/plain": [
       "<matplotlib.figure.Figure at 0x25bee34c048>"
      ]
     },
     "metadata": {},
     "output_type": "display_data"
    }
   ],
   "source": [
    "eval_prec_mean =[]\n",
    "eval_prec_std = []\n",
    "\n",
    "max_deep_list = list(range(1,30 ,2))\n",
    "\n",
    "for deep in max_deep_list:\n",
    "    EstimatorKNN = KNeighborsClassifier(n_neighbors=deep)\n",
    "    CVS_EstimatorKNN = cross_val_score(EstimatorKNN,X,y,cv=10)\n",
    "    eval_prec_mean.append(np.mean(CVS_EstimatorKNN))\n",
    "    eval_prec_std.append(np.std(CVS_EstimatorKNN))\n",
    "    \n",
    "plt.plot(max_deep_list, eval_prec_mean, color='b', marker='o', markersize=5, label='Perfomance')\n",
    "plt.title('Graphic adjustment of K-neighbors')\n",
    "plt.legend()\n",
    "plt.ylabel('Score')\n",
    "plt.xlabel('n_neighbors')\n",
    "plt.grid()\n",
    "plt.show()\n",
    "\n",
    "eval_prec_mean =[]\n",
    "eval_prec_std = []\n",
    "\n",
    "max_deep_list = list(range(1,30,2))"
   ]
  },
  {
   "cell_type": "markdown",
   "metadata": {},
   "source": [
    "This graph shows us the Score as a function of the number of n_eighbors. We can see that with n_neighbors = 23,\n",
    "we get higher score value."
   ]
  },
  {
   "cell_type": "markdown",
   "metadata": {},
   "source": [
    "## 6) Task: Using KNeighborsClassifier Estimator (weights) with GridSearchCV\n",
    "\n",
    "Grid searchCV is an approach to parameter tuning that will methodically build and evaluate a model for each combination of algorithm parameters specified in a grid. Algorithm parameter tuning is an important step for improving algorithm performance right before presenting results or preparing a system for production.\n"
   ]
  },
  {
   "cell_type": "code",
   "execution_count": 17,
   "metadata": {},
   "outputs": [
    {
     "name": "stdout",
     "output_type": "stream",
     "text": [
      "ParameterGrid:  \n",
      " [{'n_neighbors': 3, 'weights': 'uniform'}, {'n_neighbors': 3, 'weights': 'distance'}, {'n_neighbors': 5, 'weights': 'uniform'}, {'n_neighbors': 5, 'weights': 'distance'}, {'n_neighbors': 7, 'weights': 'uniform'}, {'n_neighbors': 7, 'weights': 'distance'}, {'n_neighbors': 9, 'weights': 'uniform'}, {'n_neighbors': 9, 'weights': 'distance'}, {'n_neighbors': 11, 'weights': 'uniform'}, {'n_neighbors': 11, 'weights': 'distance'}, {'n_neighbors': 13, 'weights': 'uniform'}, {'n_neighbors': 13, 'weights': 'distance'}, {'n_neighbors': 15, 'weights': 'uniform'}, {'n_neighbors': 15, 'weights': 'distance'}] \n",
      "\n",
      "Best estimator:  KNeighborsClassifier(algorithm='auto', leaf_size=30, metric='minkowski',\n",
      "           metric_params=None, n_jobs=1, n_neighbors=15, p=2,\n",
      "           weights='uniform') \n",
      "\n",
      "Best Score:  0.884126106195\n",
      "Best Parameters  {'n_neighbors': 15, 'weights': 'uniform'}\n",
      "Classes  [0 1] \n",
      "\n",
      "score_test: 0.890607734807\n",
      "score_test:  0.890607734807\n",
      "accuracy_score:  0.890607734807 \n",
      "\n"
     ]
    }
   ],
   "source": [
    "X=data_Bank_X.values\n",
    "y=np.ravel(data_Bank_Label_Y.values)\n",
    "\n",
    "# First of all, we are going to create Split arrays into random train and test subsets with StratifiedShuffleSplit.\n",
    "\n",
    "Bank_term_deposittratified = StratifiedShuffleSplit(n_splits=3, test_size=0.2, random_state=142)\n",
    "\n",
    "for train_index, test_index in Bank_term_deposittratified.split(X, y):\n",
    "        X_train, X_test = X[train_index], X[test_index]\n",
    "        y_train, y_test = y[train_index], y[test_index]    \n",
    "\n",
    "# We create a instance of model.\n",
    "        \n",
    "EstimatorKNN = KNeighborsClassifier()\n",
    "\n",
    "# Now, We create a Grid of parameters with a discrete number of values for each. \n",
    "\n",
    "param_grid = {'n_neighbors': [3,5,7,9,11,13,15],'weights':['uniform','distance']}\n",
    "\n",
    "# we put the param_grid into GridSearchCV and fit it. Notice that the GridSearchCV instance when “fitting” it, all \n",
    "# the possible combinations of parameter values are evaluated and the best combination is retained.\n",
    "# Note: If the estimator is a classifier and y is either multiclass, StratifiedKFold is used.\n",
    "\n",
    "Grid_S_CV= GridSearchCV(EstimatorKNN,param_grid,cv=10)\n",
    "Grid_S_CV.fit(X_train,y_train)\n",
    "\n",
    "# Once it has been fitted, we get several parameters.\n",
    "\n",
    "print(\"ParameterGrid: \",'\\n',list(ParameterGrid(param_grid)),'\\n')\n",
    "print(\"Best estimator: \" , Grid_S_CV.best_estimator_,'\\n')\n",
    "print(\"Best Score: \",Grid_S_CV.best_score_)\n",
    "print(\"Best Parameters \",Grid_S_CV.best_params_)\n",
    "print(\"Classes \",Grid_S_CV.classes_,'\\n')\n",
    "\n",
    "# Now, we came back fit it Best_Grid_estimator with.\n",
    "\n",
    "Best_Grid_estimator = Grid_S_CV.best_estimator_\n",
    "Best_Grid_estimator.fit(X_train,y_train)\n",
    "\n",
    "# We use best_estimator attribute and predict method to predict test data.\n",
    "\n",
    "y_pred = Best_Grid_estimator.predict(X_test)\n",
    "acc_score = accuracy_score (y_pred, y_test)\n",
    "\n",
    "# We can use different ways to calculate the accuracy.\n",
    "\n",
    "print(\"score_test: \" + str(1-(sum(y_test != y_pred)/len(y_test))))\n",
    "print('score_test: ',Best_Grid_estimator.score(X_test,y_test))\n",
    "print('accuracy_score: ',acc_score,'\\n')"
   ]
  },
  {
   "cell_type": "markdown",
   "metadata": {},
   "source": [
    "##  Learning Curves KNeighborsClassifier Estimator with GridSearchCV\n",
    "\n",
    "Now, we are going to analyze the model above with Graphing Learning Curves. It shows us the validation and training score of an estimator for varying numbers of training samples. We can find out how much we benefit from adding more training data and whether the estimator suffers more from a variance error or a bias error.\n"
   ]
  },
  {
   "cell_type": "code",
   "execution_count": 18,
   "metadata": {},
   "outputs": [
    {
     "data": {
      "image/png": "[encoded data removed]",
      "text/plain": [
       "<matplotlib.figure.Figure at 0x25bee56bac8>"
      ]
     },
     "metadata": {},
     "output_type": "display_data"
    },
    {
     "name": "stdout",
     "output_type": "stream",
     "text": [
      "Training samples:  [  15   50  250  500 1000 1500 2000 2500 3000 3500]\n",
      "Train_Scores:  [ 0.86666667  0.9         0.904       0.8992      0.8992      0.89693333\n",
      "  0.8961      0.8956      0.89306667  0.89228571]\n",
      "Valid_scores:  [ 0.88476018  0.88476018  0.8854239   0.88498118  0.88564514  0.88630812\n",
      "  0.88652838  0.88586589  0.88542341  0.88321053]\n"
     ]
    }
   ],
   "source": [
    "Best_Grid_estimator_LC = Best_Grid_estimator\n",
    "\n",
    "train_sizes ,  train_scores ,  valid_scores  =  learning_curve (\n",
    "    Best_Grid_estimator_LC,  X ,  y ,shuffle = True, random_state = 42,  \n",
    "    train_sizes = [15,50,250,500,1000,1500,2000,2500,3000,3500],  cv = 5) \n",
    "\n",
    "train_mean = np.mean(train_scores, axis=1)\n",
    "train_std = np.std(train_scores, axis=1)\n",
    "valid_mean_GS = np.mean(valid_scores, axis=1)\n",
    "valid_std_GS = np.std(valid_scores, axis=1)\n",
    "\n",
    "plt.plot(train_sizes, train_mean, color='r', marker='o', markersize=5,\n",
    "         label='Training Score')\n",
    "plt.fill_between(train_sizes, train_mean + train_std, \n",
    "                 train_mean - train_std, alpha=0.15, color='r')\n",
    "plt.plot(train_sizes, valid_mean_GS, color='b', linestyle='--', \n",
    "         marker='s', markersize=5, label='Validation_Score')\n",
    "plt.fill_between(train_sizes, valid_mean_GS + valid_std_GS, \n",
    "                 valid_mean_GS - valid_std_GS, alpha=0.15, color='b')\n",
    "\n",
    "plt.title('Learning Curves')\n",
    "plt.legend(loc='lower right')\n",
    "plt.xlabel('Training samples')\n",
    "plt.ylabel('Score')\n",
    "plt.grid()\n",
    "plt.show()\n",
    "\n",
    "\n",
    "print('Training samples: ' ,train_sizes)\n",
    "print('Train_Scores: ',train_mean)\n",
    "print('Valid_scores: ',valid_mean_GS)"
   ]
  },
  {
   "cell_type": "markdown",
   "metadata": {},
   "source": [
    "We notice that exists underfitting (high bias). Therefore, we must add more attributes (no more samples) or we try another more complex algorithm."
   ]
  },
  {
   "cell_type": "code",
   "execution_count": 19,
   "metadata": {},
   "outputs": [
    {
     "name": "stdout",
     "output_type": "stream",
     "text": [
      "99\n"
     ]
    }
   ],
   "source": [
    "# Amount Failures:\n",
    "\n",
    "y_pred = Best_Grid_estimator.predict(X_test)\n",
    "print(sum(y_test != y_pred))\n"
   ]
  },
  {
   "cell_type": "code",
   "execution_count": 20,
   "metadata": {},
   "outputs": [
    {
     "name": "stdout",
     "output_type": "stream",
     "text": [
      "classification_report:  \n",
      " \n",
      "              precision    recall  f1-score   support\n",
      "\n",
      "          0       0.90      0.98      0.94       801\n",
      "          1       0.58      0.18      0.28       104\n",
      "\n",
      "avg / total       0.86      0.89      0.86       905\n",
      "\n"
     ]
    }
   ],
   "source": [
    "# Classification_report:\n",
    "\n",
    "print('classification_report: ','\\n','\\n',classification_report(y_test, y_pred))"
   ]
  },
  {
   "cell_type": "code",
   "execution_count": 21,
   "metadata": {},
   "outputs": [
    {
     "data": {
      "image/png": "[encoded data removed]",
      "text/plain": [
       "<matplotlib.figure.Figure at 0x25bee3231d0>"
      ]
     },
     "metadata": {},
     "output_type": "display_data"
    }
   ],
   "source": [
    "# Confusion Matrix\n",
    "\n",
    "mat = confusion_matrix(y_test, y_pred)\n",
    "sns.heatmap(mat, cmap=\"vlag\", robust=True,linewidths=.75, square=True, annot=True)\n",
    "plt.xlabel('predicted value')\n",
    "plt.ylabel('true value');\n"
   ]
  },
  {
   "cell_type": "markdown",
   "metadata": {
    "collapsed": true
   },
   "source": [
    "With the Confusion Matrix we can deepen in detail and we see how is the performance for each class (apart from the precision_score and recall_score metrics). We can see that the worst performance belongs to 'Yes' class with 85 false negatives. it means that, don't predict very well for this class and this class tell us who people will subscribe a term deposit. Therefore, it isn't enough with having a good score but also a good recall. As a solution for this problem, we'll try other estimators or maybe it balances the data too.\n"
   ]
  },
  {
   "cell_type": "markdown",
   "metadata": {},
   "source": [
    "## Using decomposition PCA"
   ]
  },
  {
   "cell_type": "markdown",
   "metadata": {},
   "source": [
    "PCA (Principal component analysis) is a fast and flexible unsupervised method for dimensionality reduction in data, but it can also be useful as a tool for visualization, for noise filtering, or for feature extraction."
   ]
  },
  {
   "cell_type": "code",
   "execution_count": 22,
   "metadata": {},
   "outputs": [
    {
     "name": "stdout",
     "output_type": "stream",
     "text": [
      "(4521, 51)\n",
      "(4521, 2)\n"
     ]
    }
   ],
   "source": [
    "X=data_Bank_X.values\n",
    "y=np.ravel(data_Bank_Label_Y.values)\n",
    "\n",
    "# project from 30 to 2 dimensions, fit the model with X and apply the dimensionality reduction on X.\n",
    "\n",
    "pca = PCA(2) \n",
    "projected = pca.fit_transform(X)\n",
    "\n",
    "# Printing shape.\n",
    "\n",
    "print(X.shape)\n",
    "print(projected.shape)"
   ]
  },
  {
   "cell_type": "code",
   "execution_count": 23,
   "metadata": {},
   "outputs": [
    {
     "data": {
      "image/png": "[encoded data removed]",
      "text/plain": [
       "<matplotlib.figure.Figure at 0x25bee5d3e48>"
      ]
     },
     "metadata": {},
     "output_type": "display_data"
    }
   ],
   "source": [
    "# Plotting components.\n",
    "\n",
    "plt.scatter(projected[:, 0], projected[:, 1],\n",
    "            c=y, edgecolor='none', alpha=0.5,\n",
    "            cmap=plt.cm.get_cmap('nipy_spectral', 2))\n",
    "plt.xlabel('component 1')\n",
    "plt.ylabel('component 2')\n",
    "plt.colorbar();"
   ]
  },
  {
   "cell_type": "markdown",
   "metadata": {},
   "source": [
    "We must do some considerations (components mean): The full data is 51-dimensional point cloud, and these points are the projection of each data point along the directions with the largest variance."
   ]
  },
  {
   "cell_type": "code",
   "execution_count": 24,
   "metadata": {},
   "outputs": [
    {
     "name": "stdout",
     "output_type": "stream",
     "text": [
      "PCA_components:  [[  2.94556906e-04   9.99998944e-01  -2.37735296e-05  -1.38746933e-03\n",
      "   -1.03007352e-05   3.14233814e-04   1.47431671e-05  -2.28688974e-06\n",
      "   -7.79859767e-06   9.12734594e-07   1.80850279e-06   8.14820726e-06\n",
      "    5.03632388e-06  -1.35217595e-07  -3.24601715e-06   2.48628345e-07\n",
      "   -1.71912150e-06  -1.04198695e-06   7.34337381e-08  -3.87260645e-06\n",
      "    2.77010993e-06   1.10249652e-06  -1.83986115e-07  -1.27207898e-05\n",
      "    1.16322457e-05   1.27253030e-06   3.02826607e-06  -3.02826607e-06\n",
      "    8.27232997e-06  -8.27232997e-06   8.53147951e-06  -8.53147951e-06\n",
      "    3.82525373e-08   2.81884406e-06  -2.85709660e-06   1.68447683e-06\n",
      "    4.93536377e-07   1.04748738e-06  -5.61733630e-07  -1.61328090e-06\n",
      "   -1.09190413e-05   5.99379003e-06   7.50365255e-07  -1.08749620e-05\n",
      "    1.12161120e-05   2.57143829e-06   2.11811754e-07   2.65772965e-06\n",
      "    8.93385630e-09   1.65949474e-06  -4.32615825e-06]\n",
      " [ -4.22992333e-05   1.38593938e-03  -7.92665165e-04   9.99986998e-01\n",
      "   -8.22668707e-04   4.76821010e-03   1.27538958e-04  -4.62335656e-05\n",
      "    4.26014629e-05   1.19955398e-05   1.08369745e-05  -9.34303205e-06\n",
      "    1.72718869e-05   4.01497685e-08  -2.64011282e-06  -4.14948981e-06\n",
      "   -2.99814332e-05   1.54480108e-05  -5.84639114e-06   2.56971574e-05\n",
      "   -6.76703122e-05   4.19731548e-05  -5.08732810e-06   4.22827892e-05\n",
      "   -2.91581011e-05  -8.03736003e-06   6.33506462e-06  -6.33506462e-06\n",
      "   -2.89056031e-05   2.89056031e-05   8.58775449e-06  -8.58775449e-06\n",
      "    3.06723106e-05  -1.97688245e-05  -1.09034861e-05   2.97443383e-05\n",
      "   -4.21199089e-05   1.02463339e-05  -6.01321249e-06   2.48546069e-06\n",
      "    1.43676037e-05  -1.92043985e-05  -1.03016667e-05   1.36458175e-05\n",
      "    1.24418073e-05   2.85064186e-06  -8.14281668e-06  -1.33245800e-05\n",
      "    6.92825552e-06   3.21277394e-05  -2.57314150e-05]] \n",
      "\n",
      "explained_variance:  [ 9057940.75481275    67509.55906602]\n"
     ]
    }
   ],
   "source": [
    "# PCA components: Principal axes in feature space, representing the directions of maximum variance in the data. \n",
    "# The components are sorted by explained_variance_.\n",
    "\n",
    "print('PCA_components: ',pca.components_,'\\n')\n",
    "\n",
    "# Explained_variance: The amount of variance explained by each of the selected components.\n",
    "\n",
    "print('explained_variance: ',pca.explained_variance_)"
   ]
  },
  {
   "cell_type": "markdown",
   "metadata": {},
   "source": [
    "#### Choosing the number of components\n",
    "\n",
    "Using PCA you can also estimate how many components are needed to describe the data. This can be determined by looking at the cumulative explained variance ratio as a function of the number of components:"
   ]
  },
  {
   "cell_type": "code",
   "execution_count": 25,
   "metadata": {},
   "outputs": [
    {
     "data": {
      "image/png": "[encoded data removed]",
      "text/plain": [
       "<matplotlib.figure.Figure at 0x25bee269b00>"
      ]
     },
     "metadata": {},
     "output_type": "display_data"
    }
   ],
   "source": [
    "pca = PCA().fit(X)\n",
    "plt.plot(np.cumsum(pca.explained_variance_ratio_))\n",
    "plt.xlabel('number of components')\n",
    "plt.ylabel('cumulative explained variance')\n",
    "plt.grid();"
   ]
  },
  {
   "cell_type": "markdown",
   "metadata": {},
   "source": [
    "We can see that the first 3 components contain approximately 100 % of cumulative explained variance. therefore with only three componets it would be enough to describe our model."
   ]
  },
  {
   "cell_type": "markdown",
   "metadata": {},
   "source": [
    "### Task: DecisionTreeClassifier"
   ]
  },
  {
   "cell_type": "markdown",
   "metadata": {},
   "source": [
    "Decision Trees (DTs) are a non-parametric supervised learning method used for classification and regression. The goal is to create a model that predicts the value of a target variable by learning simple decision rules inferred from the data features."
   ]
  },
  {
   "cell_type": "code",
   "execution_count": 26,
   "metadata": {},
   "outputs": [
    {
     "name": "stdout",
     "output_type": "stream",
     "text": [
      "ParameterGrid:  \n",
      " [{'n_neighbors': 3, 'weights': 'uniform'}, {'n_neighbors': 3, 'weights': 'distance'}, {'n_neighbors': 5, 'weights': 'uniform'}, {'n_neighbors': 5, 'weights': 'distance'}, {'n_neighbors': 7, 'weights': 'uniform'}, {'n_neighbors': 7, 'weights': 'distance'}, {'n_neighbors': 9, 'weights': 'uniform'}, {'n_neighbors': 9, 'weights': 'distance'}, {'n_neighbors': 11, 'weights': 'uniform'}, {'n_neighbors': 11, 'weights': 'distance'}, {'n_neighbors': 13, 'weights': 'uniform'}, {'n_neighbors': 13, 'weights': 'distance'}, {'n_neighbors': 15, 'weights': 'uniform'}, {'n_neighbors': 15, 'weights': 'distance'}] \n",
      "\n",
      "Best estimator:  DecisionTreeClassifier(class_weight=None, criterion='entropy', max_depth=8,\n",
      "            max_features=None, max_leaf_nodes=None,\n",
      "            min_impurity_decrease=0.0, min_impurity_split=None,\n",
      "            min_samples_leaf=1, min_samples_split=2,\n",
      "            min_weight_fraction_leaf=0.0, presort=False, random_state=None,\n",
      "            splitter='best') \n",
      "\n",
      "Best Score:  0.897589028976\n",
      "Best Parameters  {'criterion': 'entropy', 'max_depth': 8}\n",
      "Classes  [0 1] \n",
      "\n",
      "score_test: 0.895027624309\n",
      "score_test:  0.895027624309\n",
      "accuracy_score:  0.895027624309 \n",
      "\n",
      "precision_score:  0.895027624309\n",
      "recall_score:  0.895027624309\n"
     ]
    }
   ],
   "source": [
    "X=data_Bank_X.values\n",
    "y=np.ravel(data_Bank_Label_Y.values)\n",
    "\n",
    "# First of all, we are going to create Split arrays into random train and test subsets with StratifiedShuffleSplit.\n",
    "\n",
    "Bank_term_deposittratified = StratifiedShuffleSplit(n_splits=3, test_size=0.2, random_state=124)\n",
    "\n",
    "for train_index, test_index in Bank_term_deposittratified.split(X, y):\n",
    "        X_train, X_test = X[train_index], X[test_index]\n",
    "        y_train, y_test = y[train_index], y[test_index]    \n",
    "\n",
    "# We create a instance of model.\n",
    "EstimatorKNN = KNeighborsClassifier()\n",
    "\n",
    "EstimatorDTree= DecisionTreeClassifier()\n",
    "\n",
    "# Now, We create a Grid of parameters with a discrete number of values for each and fit the model.\n",
    "\n",
    "\n",
    "tree_para = {'criterion':['gini','entropy'],'max_depth':[4,5,6,7,8,9,10,11,12,15,20,30,40,50,70,90,120,150]}\n",
    "Grid_S_CV = GridSearchCV(EstimatorDTree, tree_para, cv=5)\n",
    "Grid_S_CV.fit(X,y)\n",
    "\n",
    "# Now, we came back fit it Best_Grid_estimator with.\n",
    "\n",
    "Best_Grid_estimator_LOO = Grid_S_CV.best_estimator_\n",
    "Best_Grid_estimator_LOO.fit(X_train,y_train)\n",
    "\n",
    "# We use best_estimator attribute and predict method to predict test data.\n",
    "\n",
    "y_pred = Best_Grid_estimator_LOO.predict(X_test)\n",
    "acc_score = accuracy_score (y_pred, y_test)\n",
    "\n",
    "# Once it has been fitted, we get several parameters.\n",
    "\n",
    "print(\"ParameterGrid: \",'\\n',list(ParameterGrid(param_grid)),'\\n')\n",
    "print(\"Best estimator: \" , Grid_S_CV.best_estimator_,'\\n')\n",
    "print(\"Best Score: \",Grid_S_CV.best_score_)\n",
    "print(\"Best Parameters \",Grid_S_CV.best_params_)\n",
    "print(\"Classes \",Grid_S_CV.classes_,'\\n')\n",
    "\n",
    "# We can use different ways to calculate the score or accuracy.\n",
    "\n",
    "print(\"score_test: \" + str(1-(sum(y_test != y_pred)/len(y_test))))\n",
    "print('score_test: ',Best_Grid_estimator_LOO.score(X_test,y_test))\n",
    "print('accuracy_score: ',acc_score,'\\n')\n",
    "\n",
    "print('precision_score: ', precision_score(y_test, y_pred, average='micro'))\n",
    "print('recall_score: ', recall_score(y_test, y_pred, average='micro'))"
   ]
  },
  {
   "cell_type": "markdown",
   "metadata": {},
   "source": [
    "##  Learning Curves Estimator with GridSearchCV ( DecisionTreeClassifier)\n",
    "Now, we are going to analyze the model above with Graphing Learning Curves. It shows us the validation and training score of an estimator for varying numbers of training samples. We can find out how much we benefit from adding more training data and whether the estimator suffers more from a variance error or a bias error."
   ]
  },
  {
   "cell_type": "code",
   "execution_count": 27,
   "metadata": {},
   "outputs": [
    {
     "data": {
      "image/png": "[encoded data removed]",
      "text/plain": [
       "<matplotlib.figure.Figure at 0x25bee5fdc50>"
      ]
     },
     "metadata": {},
     "output_type": "display_data"
    },
    {
     "name": "stdout",
     "output_type": "stream",
     "text": [
      "Training samples:  [  15   50  250  500 1000 1500 2000 2500 3000 3500]\n",
      "Train_Scores:  [ 1.          1.          0.9944      0.9872      0.9658      0.95173333\n",
      "  0.9457      0.9428      0.942       0.93908571]\n",
      "Valid_scores:  [ 0.84252726  0.85822471  0.85667408  0.87016843  0.87945754  0.88653303\n",
      "  0.88807779  0.88453821  0.89471325  0.89250012]\n"
     ]
    }
   ],
   "source": [
    "Best_Grid_estimator_LC = Best_Grid_estimator_LOO\n",
    "\n",
    "train_sizes ,  train_scores ,  valid_scores  =  learning_curve (\n",
    "    Best_Grid_estimator_LC,  X ,  y ,shuffle = True, random_state = 42,  \n",
    "    train_sizes =[15,50,250,500,1000,1500,2000,2500,3000,3500],  cv = 5) \n",
    "\n",
    "train_mean = np.mean(train_scores, axis=1)\n",
    "train_std = np.std(train_scores, axis=1)\n",
    "valid_mean_LOO = np.mean(valid_scores, axis=1)\n",
    "valid_std_LOO = np.std(valid_scores, axis=1)\n",
    "\n",
    "plt.plot(train_sizes, train_mean, color='r', marker='o', markersize=5,\n",
    "         label='Training Score')\n",
    "plt.fill_between(train_sizes, train_mean + train_std, \n",
    "                 train_mean - train_std, alpha=0.15, color='r')\n",
    "plt.plot(train_sizes, valid_mean_LOO, color='b', linestyle='--', \n",
    "         marker='s', markersize=5, label='Validation_Score')\n",
    "plt.fill_between(train_sizes, valid_mean_LOO + valid_std_LOO, \n",
    "                 valid_mean_LOO - valid_std_LOO, alpha=0.15, color='b')\n",
    "\n",
    "plt.title('Learning Curves')\n",
    "plt.legend(loc='lower right')\n",
    "plt.xlabel('Training samples')\n",
    "plt.ylabel('Score')\n",
    "plt.grid()\n",
    "plt.show()\n",
    "\n",
    "\n",
    "print('Training samples: ' ,train_sizes)\n",
    "print('Train_Scores: ',train_mean)\n",
    "print('Valid_scores: ',valid_mean_LOO)"
   ]
  },
  {
   "cell_type": "markdown",
   "metadata": {},
   "source": [
    "We notice that exists underfitting (high bias). Therefore, we must add more attributes (no more samples) or we try another more complex algorithm."
   ]
  },
  {
   "cell_type": "code",
   "execution_count": 28,
   "metadata": {},
   "outputs": [
    {
     "name": "stdout",
     "output_type": "stream",
     "text": [
      "classification_report:  \n",
      " \n",
      "              precision    recall  f1-score   support\n",
      "\n",
      "          0       0.91      0.98      0.94       801\n",
      "          1       0.60      0.26      0.36       104\n",
      "\n",
      "avg / total       0.87      0.90      0.88       905\n",
      "\n"
     ]
    }
   ],
   "source": [
    "# Classification_report:\n",
    "\n",
    "print('classification_report: ','\\n','\\n',classification_report(y_test, y_pred))"
   ]
  },
  {
   "cell_type": "code",
   "execution_count": 29,
   "metadata": {},
   "outputs": [
    {
     "name": "stdout",
     "output_type": "stream",
     "text": [
      "95\n"
     ]
    }
   ],
   "source": [
    "# Amount Failures:\n",
    "\n",
    "y_pred = Best_Grid_estimator_LOO.predict(X_test)\n",
    "print(sum(y_test != y_pred))"
   ]
  },
  {
   "cell_type": "code",
   "execution_count": 30,
   "metadata": {
    "scrolled": true
   },
   "outputs": [
    {
     "data": {
      "image/png": "[encoded data removed]",
      "text/plain": [
       "<matplotlib.figure.Figure at 0x25bee67eeb8>"
      ]
     },
     "metadata": {},
     "output_type": "display_data"
    }
   ],
   "source": [
    "# Confusion Matrix\n",
    "\n",
    "mat = confusion_matrix(y_test, y_pred)\n",
    "sns.heatmap(mat, cmap=\"vlag\", robust=True,linewidths=.75, square=True, annot=True)\n",
    "plt.xlabel('predicted value')\n",
    "plt.ylabel('true value');"
   ]
  },
  {
   "cell_type": "markdown",
   "metadata": {},
   "source": [
    "### 5) Task: Razona si es necesario estratificar el proceso de cross-validación analizando la distribución de muestras por clase.\n",
    "\n",
    "To analyze if our data are stratified, we’ll use the absolute frequency and the number of classes (For this case, we have two classes No and Yes).\n",
    "\n",
    "We have created two graphics. A bar graph where you can see absolute frequency by each class. And another show us absolute frequency as a function of the number of samples of the dataset for each class.\n",
    "\n",
    "As you can observe on the second graph, the distribution of absolute frequency isn't the same to the number of samples between classes. Consequently, we can conclude that we need to stratify the data.\n",
    "\n",
    "Another important question that we must know when we work with models of classification is if our dataset is balanced or not. We can say that a dataset isn’t balanced when the number of observations isn’t the same for each class or when the difference between the number of observations between classes is high.\n",
    "\n",
    "To know if our dataset is balanced or not. We look at the bar chart, and we observe that absolute frequency for each class isn't the same. Therefore, We can conclude that our dataset isn't balanced.\n",
    "\n",
    "For our model works well we should do some changes in the data before:\n",
    "\n",
    "1. Balance the data.\n",
    "2. Stratification using, for example, Stratified K-Folds cross-validator, Stratified ShuffleSplit cross-validator,          etc.\n",
    "\n",
    "\n",
    "You can see all this below.\n",
    "\n"
   ]
  },
  {
   "cell_type": "code",
   "execution_count": 31,
   "metadata": {},
   "outputs": [
    {
     "name": "stdout",
     "output_type": "stream",
     "text": [
      "Absolute frequency: [4000  521]\n"
     ]
    },
    {
     "data": {
      "image/png": "[encoded data removed]",
      "text/plain": [
       "<matplotlib.figure.Figure at 0x25beea652e8>"
      ]
     },
     "metadata": {},
     "output_type": "display_data"
    },
    {
     "data": {
      "image/png": "[encoded data removed]",
      "text/plain": [
       "<matplotlib.figure.Figure at 0x25beea7b400>"
      ]
     },
     "metadata": {},
     "output_type": "display_data"
    }
   ],
   "source": [
    "\n",
    "X=data_Bank_X.values\n",
    "y=np.ravel(data_Bank_Label_Y.values)\n",
    "\n",
    "z=[]\n",
    "h=[]\n",
    "\n",
    "c=np.bincount(y)  \n",
    "f=np.arange(50,4000,50)\n",
    "              \n",
    "for cont in f:\n",
    "    b=np.bincount(y[0:cont])\n",
    "    z.append(np.array(b))\n",
    "    h.append(np.array(cont)) \n",
    "    \n",
    "g=np.array(z)\n",
    "k=np.array(h)\n",
    "\n",
    "'''\n",
    "print(g[:,0]/k)\n",
    "print(k)\n",
    "\n",
    "plt.plot(f,z)\n",
    "plt.title('Stratified distribution')\n",
    "plt.xlabel('Samples')\n",
    "plt.ylabel('Absolute frequency ')\n",
    "plt.grid()\n",
    "plt.show()\n",
    "'''\n",
    "print('Absolute frequency:',c)\n",
    "# print('Columns of absolute frecuency by classes and by samples: ','\\n',g)\n",
    "\n",
    "ind = np.arange(2) \n",
    "\n",
    "plt.bar(ind,c,color=['red', 'blue'],width=0.45)\n",
    "plt.xticks(ind, ('No', 'Yes'))\n",
    "plt.title('Balanced')\n",
    "plt.xlabel('Classes')\n",
    "plt.ylabel('Absolute frequency ')\n",
    "plt.grid()\n",
    "plt.show()\n",
    "\n",
    "label1=(g[:,0])\n",
    "label2=(g[:,1])\n",
    "\n",
    "plt.plot(f,label1,label='No')\n",
    "plt.plot(f,label2,label='Yes')\n",
    "#plt.axis([1,2,0,360])\n",
    "plt.title('Classes distribution')\n",
    "plt.xlabel('Samples')\n",
    "plt.ylabel('Absolute frequency ')\n",
    "plt.grid()\n",
    "plt.legend(bbox_to_anchor=(1.05, 1), loc=2, borderaxespad=0.)\n",
    "plt.show()"
   ]
  },
  {
   "cell_type": "markdown",
   "metadata": {},
   "source": [
    "### 7) Task : Siguiendo la misma aproximación del último apartado, introduce el tipo de métrica de distancia (parámetro “metric”) dentro del proceso de validación cruzada. Evalúa los resultados y las ganancias/pérdidas de capacidad de generalización del modelo."
   ]
  },
  {
   "cell_type": "code",
   "execution_count": 32,
   "metadata": {},
   "outputs": [
    {
     "name": "stdout",
     "output_type": "stream",
     "text": [
      "Best estimator:  KNeighborsClassifier(algorithm='auto', leaf_size=30, metric='manhattan',\n",
      "           metric_params=None, n_jobs=1, n_neighbors=15, p=3,\n",
      "           weights='uniform') \n",
      "\n",
      "Best Score:  0.88689159292\n",
      "Best Parameters  {'metric': 'manhattan', 'n_neighbors': 15, 'p': 3, 'weights': 'uniform'}\n",
      "Classes  [0 1] \n",
      "\n",
      "score_test: 0.888397790055\n",
      "score_test:  0.888397790055\n",
      "accuracy_score:  0.888397790055 \n",
      "\n",
      "precision_score:  0.888397790055\n",
      "recall_score:  0.888397790055\n"
     ]
    }
   ],
   "source": [
    "X=data_Bank_X.values\n",
    "y=np.ravel(data_Bank_Label_Y.values)\n",
    "\n",
    "# First of all, we are going to create Split arrays into random train and test subsets with StratifiedShuffleSplit.\n",
    "\n",
    "Bank_term_deposittratified = StratifiedShuffleSplit(n_splits=3, test_size=0.2, random_state=124)\n",
    "\n",
    "for train_index, test_index in Bank_term_deposittratified.split(X, y):\n",
    "        X_train, X_test = X[train_index], X[test_index]\n",
    "        y_train, y_test = y[train_index], y[test_index]    \n",
    "\n",
    "# We create a instance of model.\n",
    "        \n",
    "EstimatorKNN = KNeighborsClassifier()\n",
    "\n",
    "# Now, We create a Grid of parameters with a discrete number of values for each. Now, we included 'metric' in param_grid.\n",
    "\n",
    "param_grid = {'n_neighbors': [3,5,7,9,11,13,15],'weights':['uniform','distance'],'metric': ['manhattan','chebyshev','minkowski'],\n",
    "             'p':[3,5]}\n",
    "\n",
    "# we put the param_grid into GridSearchCV and fit it. Notice that the GridSearchCV instance when “fitting” it, all \n",
    "# the possible combinations of parameter values are evaluated and the best combination is retained.\n",
    "# Note: If the estimator is a classifier and y is either multiclass, StratifiedKFold is used.\n",
    "\n",
    "Grid_S_CV= GridSearchCV(EstimatorKNN,param_grid,cv=10)\n",
    "Grid_S_CV.fit(X_train,y_train)\n",
    "\n",
    "# Once it has been fitted, we get several parameters.\n",
    "\n",
    "print(\"Best estimator: \" , Grid_S_CV.best_estimator_,'\\n')\n",
    "print(\"Best Score: \",Grid_S_CV.best_score_)\n",
    "print(\"Best Parameters \",Grid_S_CV.best_params_)\n",
    "print(\"Classes \",Grid_S_CV.classes_,'\\n')\n",
    "\n",
    "# Now, we came back fit it Best_Grid_estimator with.\n",
    "\n",
    "Best_Grid_estimator_Metrics = Grid_S_CV.best_estimator_\n",
    "Best_Grid_estimator_Metrics.fit(X_train,y_train)\n",
    "\n",
    "# We use best_estimator attribute and predict method to predict test data.\n",
    "\n",
    "y_pred = Best_Grid_estimator_Metrics.predict(X_test)\n",
    "acc_score = accuracy_score (y_pred, y_test)\n",
    "\n",
    "# We can use different ways to calculate the score or accuracy.\n",
    "\n",
    "print(\"score_test: \" + str(1-(sum(y_test != y_pred)/len(y_test))))\n",
    "print('score_test: ',Best_Grid_estimator_Metrics.score(X_test,y_test))\n",
    "print('accuracy_score: ',acc_score,'\\n')\n",
    "\n",
    "# Lastly, Build a text report showing the main classification metrics.\n",
    "\n",
    "print('precision_score: ', precision_score(y_test, y_pred, average='micro'))\n",
    "print('recall_score: ', recall_score(y_test, y_pred, average='micro'))"
   ]
  },
  {
   "cell_type": "markdown",
   "metadata": {},
   "source": [
    "### Learning Curve KNeighborsClassifier Estimator (weights-Metrics) with GridSearchCV \n",
    "\n",
    "Now, we are going to analyze the model above with Graphing Learning Curves. It shows us the validation and training score of an estimator for varying numbers of training samples. We can find out how much we benefit from adding more training data and whether the estimator suffers more from a variance error or a bias error."
   ]
  },
  {
   "cell_type": "code",
   "execution_count": 33,
   "metadata": {},
   "outputs": [
    {
     "data": {
      "image/png": "[encoded data removed]",
      "text/plain": [
       "<matplotlib.figure.Figure at 0x25beeb16cc0>"
      ]
     },
     "metadata": {},
     "output_type": "display_data"
    },
    {
     "name": "stdout",
     "output_type": "stream",
     "text": [
      "Training samples:  [  15   50  250  500 1000 1500 2000 2500 3000 3500]\n",
      "Train_Scores:  [ 0.86666667  0.9         0.9024      0.8984      0.8988      0.89626667\n",
      "  0.8961      0.8944      0.8918      0.8924    ]\n",
      "Valid_scores:  [ 0.88476018  0.88476018  0.88453919  0.88520315  0.88675109  0.88785679\n",
      "  0.88763507  0.88564416  0.88542317  0.88652936]\n"
     ]
    }
   ],
   "source": [
    "Best_Grid_estimator_LC_M = Best_Grid_estimator_Metrics\n",
    "\n",
    "train_sizes ,  train_scores ,  valid_scores  =  learning_curve (\n",
    "    Best_Grid_estimator_LC_M,  X ,  y ,shuffle = True, random_state = 42,  \n",
    "    train_sizes = [15,50,250,500,1000,1500,2000,2500,3000,3500],  cv = 5) \n",
    "\n",
    "train_mean = np.mean(train_scores, axis=1)\n",
    "train_std = np.std(train_scores, axis=1)\n",
    "valid_mean = np.mean(valid_scores, axis=1)\n",
    "valid_std = np.std(valid_scores, axis=1)\n",
    "\n",
    "plt.plot(train_sizes, train_mean, color='r', marker='o', markersize=5,\n",
    "         label='Training Score')\n",
    "plt.fill_between(train_sizes, train_mean + train_std, \n",
    "                 train_mean - train_std, alpha=0.15, color='r')\n",
    "plt.plot(train_sizes, valid_mean, color='b', linestyle='--', \n",
    "         marker='s', markersize=5, label='Validation_Score')\n",
    "plt.fill_between(train_sizes, valid_mean + valid_std, \n",
    "                 valid_mean - valid_std, alpha=0.15, color='b')\n",
    "\n",
    "plt.title('Learning Curves')\n",
    "plt.legend(loc='lower right')\n",
    "plt.xlabel('Training samples')\n",
    "plt.ylabel('Score')\n",
    "plt.grid()\n",
    "plt.show()\n",
    "\n",
    "print('Training samples: ' ,train_sizes)\n",
    "print('Train_Scores: ',train_mean)\n",
    "print('Valid_scores: ',valid_mean)"
   ]
  },
  {
   "cell_type": "markdown",
   "metadata": {},
   "source": [
    "We notice that exists underfitting (high bias). Therefore, we must add more attributes (no more samples) or we try another more complex algorithm."
   ]
  },
  {
   "cell_type": "code",
   "execution_count": 34,
   "metadata": {},
   "outputs": [
    {
     "name": "stdout",
     "output_type": "stream",
     "text": [
      "classification_report:  \n",
      " \n",
      "              precision    recall  f1-score   support\n",
      "\n",
      "          0       0.90      0.99      0.94       801\n",
      "          1       0.58      0.11      0.18       104\n",
      "\n",
      "avg / total       0.86      0.89      0.85       905\n",
      "\n"
     ]
    }
   ],
   "source": [
    "# Classification_report:\n",
    "\n",
    "print('classification_report: ','\\n','\\n',classification_report(y_test, y_pred))"
   ]
  },
  {
   "cell_type": "code",
   "execution_count": 35,
   "metadata": {},
   "outputs": [
    {
     "name": "stdout",
     "output_type": "stream",
     "text": [
      "101\n"
     ]
    }
   ],
   "source": [
    "# Amount Failures:\n",
    "\n",
    "y_pred = Best_Grid_estimator_Metrics.predict(X_test)\n",
    "print(sum(y_test != y_pred))\n"
   ]
  },
  {
   "cell_type": "code",
   "execution_count": 36,
   "metadata": {},
   "outputs": [
    {
     "data": {
      "image/png": "[encoded data removed]",
      "text/plain": [
       "<matplotlib.figure.Figure at 0x25bee81a400>"
      ]
     },
     "metadata": {},
     "output_type": "display_data"
    }
   ],
   "source": [
    "# Confusion Matrix\n",
    "\n",
    "mat = confusion_matrix(y_test, y_pred)\n",
    "sns.heatmap(mat, cmap=\"vlag\", robust=True,linewidths=.75, square=True, annot=True)\n",
    "plt.xlabel('predicted value')\n",
    "plt.ylabel('true value');"
   ]
  },
  {
   "cell_type": "markdown",
   "metadata": {
    "collapsed": true
   },
   "source": [
    "# Comparative analysis between classifiers"
   ]
  },
  {
   "cell_type": "code",
   "execution_count": 38,
   "metadata": {},
   "outputs": [
    {
     "data": {
      "image/png": "[encoded data removed]",
      "text/plain": [
       "<matplotlib.figure.Figure at 0x25bee748780>"
      ]
     },
     "metadata": {},
     "output_type": "display_data"
    }
   ],
   "source": [
    "Best_Grid_estimator_LC_M = Best_Grid_estimator_Metrics\n",
    "\n",
    "train_sizes ,  train_scores ,  valid_scores  =  learning_curve (\n",
    "    Best_Grid_estimator_LC_M,  X ,  y ,shuffle = True, random_state = 42,  \n",
    "    train_sizes = [15,50,250,500,1000,1500,2000,2500,3000,3500],  cv = 5) \n",
    "\n",
    "train_mean = np.mean(train_scores, axis=1)\n",
    "train_std = np.std(train_scores, axis=1)\n",
    "valid_mean = np.mean(valid_scores, axis=1)\n",
    "valid_std = np.std(valid_scores, axis=1)\n",
    "\n",
    "plt.plot(train_sizes, valid_mean, color='b', linestyle='--', \n",
    "         marker='s', markersize=5, label='Validation_Score_KNeighborsClassifier Weights-Metrics')\n",
    "#plt.fill_between(train_sizes, valid_mean + valid_std, \n",
    "                 #valid_mean - valid_std, alpha=0.15, color='b')\n",
    "\n",
    "plt.plot(train_sizes, valid_mean_SSS, color='r', linestyle='--', \n",
    "         marker='s', markersize=5, label='Validation_score_KNeighborsClassifier_StratifiedShuffleSplit')\n",
    "#plt.fill_between(train_sizes, valid_mean_SSS + valid_std_SSS, \n",
    "                 #valid_mean_SSS - valid_std_SSS, alpha=0.15, color='b')\n",
    "\n",
    "plt.plot(train_sizes, valid_mean_LOO, color='g', linestyle='--', \n",
    "         marker='s', markersize=5, label='Validation_score_DecisionTreeClassifier')\n",
    "#plt.fill_between(train_sizes, valid_mean_LOO + valid_std_LOO, \n",
    "                 #valid_mean_LOO - valid_std_LOO, alpha=0.15, color='b')\n",
    "\n",
    "plt.plot(train_sizes, valid_mean_GS, color='m', linestyle='--', \n",
    "         marker='s', markersize=5, label='Validation_score_KNeighborsClassifier Weights')\n",
    "#plt.fill_between(train_sizes, valid_mean_GS + valid_std_GS, \n",
    "                #valid_mean_GS - valid_std_GS, alpha=0.15, color='b')\n",
    "    \n",
    "plt.title('Learning Curves')\n",
    "plt.legend(bbox_to_anchor=(1.05, 1), loc=2, borderaxespad=0.)\n",
    "plt.xlabel('Training samples')\n",
    "plt.ylabel('Score')\n",
    "plt.grid()\n",
    "plt.show()\n"
   ]
  },
  {
   "attachments": {
    "image.png": {
     "image/png": "[encoded data removed]"
    }
   },
   "cell_type": "markdown",
   "metadata": {},
   "source": [
    "![image.png](attachment:image.png)"
   ]
  },
  {
   "cell_type": "markdown",
   "metadata": {},
   "source": [
    "### Final conclusion:\n",
    "\n",
    "We can see on the graph above that DecisionTreeClasifier has the best performance compared to others as well as the best score. We also see that all algorithms have a high bias.\n",
    "On the other hand, we can notice that the number of false negatives of the class 'yes' in the matrix confusion is high and this is the class where we are interested in predict.\n",
    "To improve these results we could do the following:\n",
    "\n",
    "1.\tBalance the data.\n",
    "2.\tWe can get new attributes that describe better the function.\n",
    "3.\tWe try more complex algorithms.\n",
    "\n"
   ]
  },
  {
   "cell_type": "markdown",
   "metadata": {
    "collapsed": true
   },
   "source": [
    "# Model persistence\n",
    "Fynally, It is possible to save a model in the scikit by using Python’s built-in persistence model:\n",
    "\n",
    "Example: joblib.dump(EstimatorKNN, 'TaskModule8.pkl') \n",
    "\n",
    "Later you can load back the pickled model (possibly in another Python process) with:  \n",
    "\n",
    "Example: joblib.load('TaskModule8.pkl') "
   ]
  }
 ],
 "metadata": {
  "kernelspec": {
   "display_name": "Python 3",
   "language": "python",
   "name": "python3"
  },
  "language_info": {
   "codemirror_mode": {
    "name": "ipython",
    "version": 3
   },
   "file_extension": ".py",
   "mimetype": "text/x-python",
   "name": "python",
   "nbconvert_exporter": "python",
   "pygments_lexer": "ipython3",
   "version": "3.6.3"
  }
 },
 "nbformat": 4,
 "nbformat_minor": 2
}
